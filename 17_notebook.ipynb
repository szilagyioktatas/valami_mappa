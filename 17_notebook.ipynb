{
 "cells": [
  {
   "cell_type": "code",
   "execution_count": 4,
   "metadata": {},
   "outputs": [
    {
     "name": "stdout",
     "output_type": "stream",
     "text": [
      "0\n",
      "1\n",
      "3\n",
      "4\n",
      "5\n",
      "6\n",
      "7\n",
      "8\n",
      "9\n"
     ]
    }
   ],
   "source": [
    "for i in range(10):\n",
    "    if i == 2: \n",
    "        continue\n",
    "    else: \n",
    "        print(i)\n",
    "        "
   ]
  },
  {
   "cell_type": "code",
   "execution_count": null,
   "metadata": {},
   "outputs": [],
   "source": []
  },
  {
   "cell_type": "markdown",
   "metadata": {},
   "source": [
    "# 17. A  16 folytatása\n",
    "Hasznos:\n",
    "- csv link: https://www.programiz.com/python-programming/csv\n",
    "- json link: https://www.w3schools.com/python/python_json.asp\n"
   ]
  },
  {
   "cell_type": "code",
   "execution_count": 7,
   "metadata": {},
   "outputs": [],
   "source": [
    "import csv\n",
    "adatok = [\n",
    "['név', 'kor', 'város'],\n",
    "['Anna', '28', 'Budapest'],\n",
    "['Béla', '32', 'Szeged'],\n",
    "['Csaba', '45', 'Debrecen'],\n",
    "]\n",
    "v\n",
    "\n",
    "with open('adatok.csv', mode='w', encoding='utf-8') as file:\n",
    "    csv.writer(adatok)\n",
    "\n"
   ]
  },
  {
   "cell_type": "code",
   "execution_count": 8,
   "metadata": {},
   "outputs": [],
   "source": [
    "import csv\n",
    "\n",
    "adatok = [\n",
    "    ['név', 'kor', 'város'],\n",
    "    ['Dóra', '27', 'Pécs'],\n",
    "    ['Elemér', '35', 'Győr'],\n",
    "    ['Fanni', '29', 'Miskolc']\n",
    "]\n",
    "\n",
    "with open('adatok.csv', mode='w', newline='', encoding='utf-8') as file:\n",
    "    csv_writer = csv.writer(file)\n",
    "    csv_writer.writerows(adatok)"
   ]
  },
  {
   "cell_type": "code",
   "execution_count": 10,
   "metadata": {},
   "outputs": [
    {
     "name": "stdout",
     "output_type": "stream",
     "text": [
      "['név', 'kor', 'város']\n",
      "['Dóra', '27', 'Pécs']\n",
      "['Elemér', '35', 'Győr']\n",
      "['Fanni', '29', 'Miskolc']\n"
     ]
    }
   ],
   "source": [
    "import csv\n",
    "\n",
    "with open('adatok.csv', mode='r', encoding='utf-8') as file:\n",
    "    csv_reader = csv.reader(file)\n",
    "    for row in csv_reader:\n",
    "        print(row)"
   ]
  },
  {
   "cell_type": "code",
   "execution_count": 11,
   "metadata": {},
   "outputs": [
    {
     "name": "stdout",
     "output_type": "stream",
     "text": [
      "{'név': 'Dóra', 'kor': '27', 'város': 'Pécs'}\n",
      "{'név': 'Elemér', 'kor': '35', 'város': 'Győr'}\n",
      "{'név': 'Fanni', 'kor': '29', 'város': 'Miskolc'}\n"
     ]
    }
   ],
   "source": [
    "import csv\n",
    "\n",
    "with open('adatok.csv', mode='r', encoding='utf-8') as file:\n",
    "    csv_reader = csv.DictReader(file)\n",
    "    for row in csv_reader:\n",
    "        print(row)"
   ]
  },
  {
   "cell_type": "code",
   "execution_count": 12,
   "metadata": {},
   "outputs": [],
   "source": [
    "import csv\n",
    "\n",
    "adatok = [\n",
    "    ['név', 'kor', 'város'],\n",
    "    ['Dóra', '27', 'Pécs'],\n",
    "    ['Elemér', '35', 'Győr'],\n",
    "    ['Fanni', '29', 'Miskolc']\n",
    "]\n",
    "\n",
    "with open('uj_adatok.csv', mode='w', newline='', encoding='utf-8') as file:\n",
    "    csv_writer = csv.writer(file)\n",
    "    csv_writer.writerows(adatok)"
   ]
  },
  {
   "cell_type": "code",
   "execution_count": 13,
   "metadata": {},
   "outputs": [],
   "source": [
    "import csv\n",
    "\n",
    "adatok = [\n",
    "    {'név': 'Gábor', 'kor': '40', 'város': 'Sopron'},\n",
    "    {'név': 'Hanna', 'kor': '22', 'város': 'Kecskemét'},\n",
    "    {'név': 'István', 'kor': '37', 'város': 'Eger'}\n",
    "]\n",
    "\n",
    "with open('uj_adatok_dict.csv', mode='w', newline='', encoding='utf-8') as file:\n",
    "    fieldnames = ['név', 'kor', 'város']\n",
    "    csv_writer = csv.DictWriter(file, fieldnames=fieldnames)\n",
    "    \n",
    "    csv_writer.writeheader()  # Fejléc sor írása\n",
    "    csv_writer.writerows(adatok)"
   ]
  },
  {
   "cell_type": "markdown",
   "metadata": {},
   "source": [
    "## Innentől json"
   ]
  },
  {
   "cell_type": "code",
   "execution_count": 18,
   "metadata": {},
   "outputs": [
    {
     "name": "stdout",
     "output_type": "stream",
     "text": [
      "John\n"
     ]
    }
   ],
   "source": [
    "import json \n",
    "\n",
    "\n",
    "x = '{ \"name\" : \"John\", \"age\" : \"27\", \"city\" : \"New York\"}'\n",
    "y = json.loads(x)\n",
    "print(y[\"name\"])"
   ]
  },
  {
   "cell_type": "code",
   "execution_count": 29,
   "metadata": {},
   "outputs": [
    {
     "name": "stdout",
     "output_type": "stream",
     "text": [
      "{\"name\": \"John\", \"age\": 30, \"city\": \"New York\"}\n"
     ]
    }
   ],
   "source": [
    "import json\n",
    "\n",
    "# a Python object (dict):\n",
    "x = {\n",
    "  \"name\": \"John\",\n",
    "  \"age\": 30,\n",
    "  \"city\": \"New York\"\n",
    "}\n",
    "\n",
    "# convert into JSON:\n",
    "y = json.dumps(x)\n",
    "print(y)\n"
   ]
  },
  {
   "cell_type": "code",
   "execution_count": 65,
   "metadata": {},
   "outputs": [],
   "source": [
    "gyumolcsok_data = {\n",
    "    \"gyumolcsok\": [\n",
    "        \"alma\",\n",
    "        \"korte\",\n",
    "        \"banan\",\n",
    "        \"finomszilva\",\n",
    "        \"dinnye\"\n",
    "    ]\n",
    "}\n",
    "\n",
    "\n",
    "with open('gyumolcsok.json','w') as json_file: \n",
    "    json.dump(gyumolcsok_data, json_file, indent=2)\n",
    "    \n",
    "    "
   ]
  },
  {
   "cell_type": "code",
   "execution_count": 1,
   "metadata": {},
   "outputs": [
    {
     "data": {
      "text/plain": [
       "5"
      ]
     },
     "execution_count": 1,
     "metadata": {},
     "output_type": "execute_result"
    }
   ],
   "source": [
    "lst_strings = [ \"alma\", \"korte\", \"banan\",\"finomszilva\",\"dinnye\"]\n",
    "\n",
    "calc.add(1,4)"
   ]
  },
  {
   "cell_type": "code",
   "execution_count": 64,
   "metadata": {},
   "outputs": [
    {
     "data": {
      "text/plain": [
       "'dinnye'"
      ]
     },
     "execution_count": 64,
     "metadata": {},
     "output_type": "execute_result"
    }
   ],
   "source": [
    "with open('gyumolcsok.json', 'r') as json_file:\n",
    "    data = json.load(json_file)\n",
    "lst_strings = data[\"gyumolcsok\"]\n",
    "my_modul.secoud_longest_string(lst_strings)\n"
   ]
  },
  {
   "cell_type": "markdown",
   "metadata": {},
   "source": [
    "## Saját Modulok "
   ]
  },
  {
   "cell_type": "code",
   "execution_count": 5,
   "metadata": {},
   "outputs": [
    {
     "data": {
      "text/plain": [
       "'dinnye'"
      ]
     },
     "execution_count": 5,
     "metadata": {},
     "output_type": "execute_result"
    }
   ],
   "source": [
    "import utils\n",
    "\n",
    "utils.secoud_longest_string(lst_strings)\n"
   ]
  },
  {
   "cell_type": "code",
   "execution_count": 4,
   "metadata": {},
   "outputs": [
    {
     "data": {
      "text/plain": [
       "-3"
      ]
     },
     "execution_count": 4,
     "metadata": {},
     "output_type": "execute_result"
    }
   ],
   "source": [
    "import mypackage.mymoduls.calculator as calc\n",
    "\n",
    "calc.add(1,2,3,4,6,-23)\n",
    "calc.sub(1,2)\n",
    "\n"
   ]
  },
  {
   "cell_type": "code",
   "execution_count": 16,
   "metadata": {},
   "outputs": [
    {
     "name": "stdout",
     "output_type": "stream",
     "text": [
      "Hello\n",
      "1\n",
      "[]\n",
      "{}\n",
      "b\n"
     ]
    }
   ],
   "source": [
    "def myFun(*argv):\n",
    "    for arg in argv:\n",
    "        print(arg)\n",
    "\n",
    "myFun('Hello',1,list(),dict(),'b')"
   ]
  },
  {
   "cell_type": "code",
   "execution_count": 9,
   "metadata": {},
   "outputs": [],
   "source": [
    "def my_func(message='Hello world'):\n",
    "    print(message)\n",
    "    "
   ]
  },
  {
   "cell_type": "code",
   "execution_count": 11,
   "metadata": {},
   "outputs": [
    {
     "name": "stdout",
     "output_type": "stream",
     "text": [
      "valamit\n"
     ]
    }
   ],
   "source": [
    "my_func('valamit')"
   ]
  },
  {
   "cell_type": "code",
   "execution_count": 17,
   "metadata": {},
   "outputs": [
    {
     "ename": "SyntaxError",
     "evalue": "positional argument follows keyword argument (3840127308.py, line 8)",
     "output_type": "error",
     "traceback": [
      "\u001b[1;36m  Cell \u001b[1;32mIn[17], line 8\u001b[1;36m\u001b[0m\n\u001b[1;33m    myFun(first='Geeks', mid='for', last , meg_valami = 'sziamia')\u001b[0m\n\u001b[1;37m                                                                 ^\u001b[0m\n\u001b[1;31mSyntaxError\u001b[0m\u001b[1;31m:\u001b[0m positional argument follows keyword argument\n"
     ]
    }
   ],
   "source": [
    "def myFun(**kwargs):\n",
    "    for key, value in kwargs.items():\n",
    "        print(f\"{key} : {value}\")\n",
    "\n",
    "\n",
    "# Driver code\n",
    "\n",
    "myFun(first='Geeks', mid='for', last = 'Geeks' , meg_valami = 'sziamia')"
   ]
  },
  {
   "cell_type": "markdown",
   "metadata": {},
   "source": [
    "### Dinamukus argomentum kezelés\n",
    "*args and **kwargs\n",
    "\n",
    "https://www.geeksforgeeks.org/args-kwargs-python/"
   ]
  },
  {
   "cell_type": "markdown",
   "metadata": {},
   "source": [
    "modulok: \n",
    "https://realpython.com/python-modules-packages/"
   ]
  }
 ],
 "metadata": {
  "kernelspec": {
   "display_name": "Python 3",
   "language": "python",
   "name": "python3"
  },
  "language_info": {
   "codemirror_mode": {
    "name": "ipython",
    "version": 3
   },
   "file_extension": ".py",
   "mimetype": "text/x-python",
   "name": "python",
   "nbconvert_exporter": "python",
   "pygments_lexer": "ipython3",
   "version": "3.12.4"
  }
 },
 "nbformat": 4,
 "nbformat_minor": 2
}
